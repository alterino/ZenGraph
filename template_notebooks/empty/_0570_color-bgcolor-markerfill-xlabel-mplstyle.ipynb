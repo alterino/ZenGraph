{
 "cells": [
   {
   "cell_type": "markdown",
       "metadata": {},
       "source": [
    "options_key='color-bgcolor-markerfill-xlabel-mplstyle'<br><br>",
    "Prompt:<br><br>",
    "**Write code that loads data from {CSV_NAME} and draws a {CHART_TYPE} chart of {VARIABLE_SPEC}. Use {COLOR_SPEC} colors for the data. Make the background color {BG_COLOR}. Marker fill should be set to {MARKER_FILL}. Make the x axis label {XLABEL}. Use the matplotlib style preset {STYLE_PRESET}.**<br>"

   ]
  },
  {
   "cell_type": "code",
       "execution_count": null,
       "metadata": {},
       "outputs": [],
       "source": [
    "'''\n",
    "options_key='color-bgcolor-markerfill-xlabel-mplstyle'\n",
    "sample_id=<0>\n",
    "\n",
    "Please specify the following inputs from your sample:\n",
    "\n",
    "CSV_NAME = {NOT SPECIFIED}\n",
    "CHART_TYPE = {NOT SPECIFIED}\n",
    "VARIABLE_SPEC = {NOT SPECIFIED}\n",
    "COLOR_SPEC = {NOT SPECIFIED}\n",
    "BG_COLOR = {NOT SPECIFIED}\n",
    "MARKER_FILL = {NOT SPECIFIED}\n",
    "XLABEL = {NOT SPECIFIED}\n",
    "STYLE_PRESET = {NOT SPECIFIED}\n",
    "'''\n",
    "\n",
    "# BEGIN-code\n",
    "# NOT IMPLEMENTED\n",
    "# END-code"
   ]
  },
  {
   "cell_type": "code",
       "execution_count": null,
       "metadata": {},
       "outputs": [],
       "source": [
    "'''\n",
    "options_key='color-bgcolor-markerfill-xlabel-mplstyle'\n",
    "sample_id=<1>\n",
    "\n",
    "Please specify the following inputs from your sample:\n",
    "\n",
    "CSV_NAME = {NOT SPECIFIED}\n",
    "CHART_TYPE = {NOT SPECIFIED}\n",
    "VARIABLE_SPEC = {NOT SPECIFIED}\n",
    "COLOR_SPEC = {NOT SPECIFIED}\n",
    "BG_COLOR = {NOT SPECIFIED}\n",
    "MARKER_FILL = {NOT SPECIFIED}\n",
    "XLABEL = {NOT SPECIFIED}\n",
    "STYLE_PRESET = {NOT SPECIFIED}\n",
    "'''\n",
    "\n",
    "# BEGIN-code\n",
    "# NOT IMPLEMENTED\n",
    "# END-code"
   ]
  },
  {
   "cell_type": "code",
       "execution_count": null,
       "metadata": {},
       "outputs": [],
       "source": [
    "'''\n",
    "options_key='color-bgcolor-markerfill-xlabel-mplstyle'\n",
    "sample_id=<2>\n",
    "\n",
    "Please specify the following inputs from your sample:\n",
    "\n",
    "CSV_NAME = {NOT SPECIFIED}\n",
    "CHART_TYPE = {NOT SPECIFIED}\n",
    "VARIABLE_SPEC = {NOT SPECIFIED}\n",
    "COLOR_SPEC = {NOT SPECIFIED}\n",
    "BG_COLOR = {NOT SPECIFIED}\n",
    "MARKER_FILL = {NOT SPECIFIED}\n",
    "XLABEL = {NOT SPECIFIED}\n",
    "STYLE_PRESET = {NOT SPECIFIED}\n",
    "'''\n",
    "\n",
    "# BEGIN-code\n",
    "# NOT IMPLEMENTED\n",
    "# END-code"
   ]
  },
  {
   "cell_type": "code",
       "execution_count": null,
       "metadata": {},
       "outputs": [],
       "source": [
    "'''\n",
    "options_key='color-bgcolor-markerfill-xlabel-mplstyle'\n",
    "sample_id=<3>\n",
    "\n",
    "Please specify the following inputs from your sample:\n",
    "\n",
    "CSV_NAME = {NOT SPECIFIED}\n",
    "CHART_TYPE = {NOT SPECIFIED}\n",
    "VARIABLE_SPEC = {NOT SPECIFIED}\n",
    "COLOR_SPEC = {NOT SPECIFIED}\n",
    "BG_COLOR = {NOT SPECIFIED}\n",
    "MARKER_FILL = {NOT SPECIFIED}\n",
    "XLABEL = {NOT SPECIFIED}\n",
    "STYLE_PRESET = {NOT SPECIFIED}\n",
    "'''\n",
    "\n",
    "# BEGIN-code\n",
    "# NOT IMPLEMENTED\n",
    "# END-code"
   ]
  },
  {
   "cell_type": "code",
       "execution_count": null,
       "metadata": {},
       "outputs": [],
       "source": [
    "'''\n",
    "options_key='color-bgcolor-markerfill-xlabel-mplstyle'\n",
    "sample_id=<4>\n",
    "\n",
    "Please specify the following inputs from your sample:\n",
    "\n",
    "CSV_NAME = {NOT SPECIFIED}\n",
    "CHART_TYPE = {NOT SPECIFIED}\n",
    "VARIABLE_SPEC = {NOT SPECIFIED}\n",
    "COLOR_SPEC = {NOT SPECIFIED}\n",
    "BG_COLOR = {NOT SPECIFIED}\n",
    "MARKER_FILL = {NOT SPECIFIED}\n",
    "XLABEL = {NOT SPECIFIED}\n",
    "STYLE_PRESET = {NOT SPECIFIED}\n",
    "'''\n",
    "\n",
    "# BEGIN-code\n",
    "# NOT IMPLEMENTED\n",
    "# END-code"
   ]
  }
 ],
 "metadata": {
  "kernelspec": {
   "display_name": "Python 3",
   "language": "python",
   "name": "python3"
  },
  "language_info": {
   "codemirror_mode": {
    "name": "ipython",
    "version": 3
   },
   "file_extension": ".py",
   "mimetype": "text/x-python",
   "name": "python",
   "nbconvert_exporter": "python",
   "pygments_lexer": "ipython3",
   "version": "3.8.10"
  }
 },
 "nbformat": 4,
 "nbformat_minor": 4
}